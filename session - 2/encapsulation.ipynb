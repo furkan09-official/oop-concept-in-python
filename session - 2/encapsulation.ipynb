{
 "cells": [
  {
   "cell_type": "markdown",
   "metadata": {},
   "source": [
    "Encapsulation \n",
    "-> Instance variable in python"
   ]
  },
  {
   "cell_type": "code",
   "execution_count": null,
   "metadata": {
    "vscode": {
     "languageId": "plaintext"
    }
   },
   "outputs": [],
   "source": [
    "class person:\n",
    "      def __init__(self,name , country):\n",
    "        self.name = name\n",
    "        self.country = country\n",
    "p = person('mohd','uk')\n",
    "print(p)"
   ]
  }
 ],
 "metadata": {
  "language_info": {
   "name": "python"
  }
 },
 "nbformat": 4,
 "nbformat_minor": 2
}
